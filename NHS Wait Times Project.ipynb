{
 "cells": [
  {
   "cell_type": "markdown",
   "id": "d44e65e1",
   "metadata": {},
   "source": [
    "# NHS Referral-to-Treatment (RTT) Wait Times Analysis\n",
    "*Dataset: February 2025 NHS RTT Data Extract*\n",
    "\n",
    "### Project Goals\n",
    "\n",
    "- Explore NHS RTT wait times for all patients.\n",
    "- Identify outlier Trusts with excess long-waiters.\n",
    "- Compare mean wait times across NHS providers.\n"
   ]
  },
  {
   "cell_type": "markdown",
   "id": "00bd1cfd",
   "metadata": {},
   "source": []
  },
  {
   "cell_type": "code",
   "execution_count": null,
   "id": "5bfc3905",
   "metadata": {},
   "outputs": [],
   "source": []
  }
 ],
 "metadata": {
  "kernelspec": {
   "display_name": "base",
   "language": "python",
   "name": "python3"
  },
  "language_info": {
   "codemirror_mode": {
    "name": "ipython",
    "version": 3
   },
   "file_extension": ".py",
   "mimetype": "text/x-python",
   "name": "python",
   "nbconvert_exporter": "python",
   "pygments_lexer": "ipython3",
   "version": "3.11.7"
  }
 },
 "nbformat": 4,
 "nbformat_minor": 5
}
